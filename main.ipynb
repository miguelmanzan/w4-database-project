{
 "cells": [
  {
   "cell_type": "code",
   "execution_count": 1,
   "metadata": {
    "collapsed": true
   },
   "outputs": [],
   "source": [
    "# Step 1 - import packages and get environment variables\n",
    "\n",
    "from sqlalchemy import create_engine\n",
    "import dotenv\n",
    "import os\n",
    "import pandas as pd\n",
    "from sqlalchemy import create_engine\n",
    "import warnings\n",
    "\n",
    "# Load .env\n",
    "dotenv.load_dotenv()\n",
    "\n",
    "DB_PASS = os.getenv('DB_PASS')"
   ]
  },
  {
   "cell_type": "code",
   "execution_count": 2,
   "outputs": [],
   "source": [
    "# Step 2 - jupyter notebook configuration\n",
    "\n",
    "# Warnings ignore\n",
    "warnings.simplefilter('ignore')\n",
    "\n",
    "# Show complete dataset in\n",
    "pd.set_option('display.max_columns', None)\n",
    "pd.set_option('display.max_rows', None)\n",
    "\n",
    "# Matplotlib\n",
    "%matplotlib inline"
   ],
   "metadata": {
    "collapsed": false,
    "pycharm": {
     "name": "#%%\n"
    }
   }
  },
  {
   "cell_type": "code",
   "execution_count": 3,
   "outputs": [],
   "source": [
    "# Step 3 - import csvs\n",
    "actor=pd.read_csv('./data/actor.csv')\n",
    "category=pd.read_csv('./data/category.csv')\n",
    "film=pd.read_csv('./data/film.csv')\n",
    "inventory=pd.read_csv('./data/inventory.csv')\n",
    "language=pd.read_csv('./data/language.csv')\n",
    "rental=pd.read_csv('./data/rental.csv')\n",
    "film_actor=pd.read_csv('./data/old_HDD.csv')"
   ],
   "metadata": {
    "collapsed": false,
    "pycharm": {
     "name": "#%%\n"
    }
   }
  },
  {
   "cell_type": "code",
   "execution_count": 4,
   "outputs": [
    {
     "name": "stdout",
     "output_type": "stream",
     "text": [
      "\n",
      "ACTOR NULL COLUMNS:\n",
      "Series([], dtype: int64)\n",
      "\n",
      "CATEGORY NULL COLUMNS:\n",
      "Series([], dtype: int64)\n",
      "\n",
      "FILM NULL COLUMNS:\n",
      "original_language_id    1000\n",
      "dtype: int64\n",
      "\n",
      "INVENTORY NULL COLUMNS:\n",
      "Series([], dtype: int64)\n",
      "\n",
      "LANGUAGE NULL COLUMNS:\n",
      "Series([], dtype: int64)\n",
      "\n",
      "RENTAL NULL COLUMNS\n",
      "Series([], dtype: int64)\n",
      "\n",
      "film_actor NULL COLUMNS\n",
      "Series([], dtype: int64)\n"
     ]
    }
   ],
   "source": [
    "# Step 4 - Check if dataframes have null values\n",
    "nan_cols_actor=actor.isna().sum()\n",
    "print(\"\\nACTOR NULL COLUMNS:\")\n",
    "print(nan_cols_actor[nan_cols_actor>0])\n",
    "\n",
    "nan_cols_category=category.isna().sum()\n",
    "print(\"\\nCATEGORY NULL COLUMNS:\")\n",
    "print(nan_cols_category[nan_cols_category>0])\n",
    "\n",
    "nan_cols_film=film.isna().sum()\n",
    "print(\"\\nFILM NULL COLUMNS:\")\n",
    "print(nan_cols_film[nan_cols_film>0])\n",
    "\n",
    "nan_cols_inventory=inventory.isna().sum()\n",
    "print(\"\\nINVENTORY NULL COLUMNS:\")\n",
    "print(nan_cols_inventory[nan_cols_inventory>0])\n",
    "\n",
    "nan_cols_language=language.isna().sum()\n",
    "print(\"\\nLANGUAGE NULL COLUMNS:\")\n",
    "print(nan_cols_language[nan_cols_language>0])\n",
    "\n",
    "nan_cols_rental=rental.isna().sum()\n",
    "print(\"\\nRENTAL NULL COLUMNS\")\n",
    "print(nan_cols_rental[nan_cols_rental>0])\n",
    "\n",
    "nan_cols_film_actor=film_actor.isna().sum()\n",
    "print(\"\\nfilm_actor NULL COLUMNS\")\n",
    "print(nan_cols_film_actor[nan_cols_film_actor>0])"
   ],
   "metadata": {
    "collapsed": false,
    "pycharm": {
     "name": "#%%\n"
    }
   }
  },
  {
   "cell_type": "code",
   "execution_count": 5,
   "outputs": [],
   "source": [
    "# Step 5 - Delete original_language_id col and all \"last_update\" columns\n",
    "film.drop(\"original_language_id\", axis=1, inplace=True)\n",
    "\n",
    "actor.drop(\"last_update\", axis=1, inplace=True)\n",
    "category.drop(\"last_update\", axis=1, inplace=True)\n",
    "film.drop(\"last_update\", axis=1, inplace=True)\n",
    "inventory.drop(\"last_update\", axis=1, inplace=True)\n",
    "language.drop(\"last_update\", axis=1, inplace=True)\n",
    "rental.drop(\"last_update\", axis=1, inplace=True)"
   ],
   "metadata": {
    "collapsed": false,
    "pycharm": {
     "name": "#%%\n"
    }
   }
  },
  {
   "cell_type": "code",
   "execution_count": 6,
   "outputs": [
    {
     "name": "stdout",
     "output_type": "stream",
     "text": [
      "0\n",
      "0\n",
      "0\n",
      "0\n",
      "0\n",
      "0\n",
      "0\n"
     ]
    }
   ],
   "source": [
    "# Step 6 - Check if there are duplicated rows\n",
    "print(actor.duplicated().sum())\n",
    "print(category.duplicated().sum())\n",
    "print(film.duplicated().sum())\n",
    "print(inventory.duplicated().sum())\n",
    "print(language.duplicated().sum())\n",
    "print(rental.duplicated().sum())\n",
    "print(film_actor.duplicated().sum())"
   ],
   "metadata": {
    "collapsed": false,
    "pycharm": {
     "name": "#%%\n"
    }
   }
  },
  {
   "cell_type": "code",
   "execution_count": 7,
   "outputs": [
    {
     "name": "stdout",
     "output_type": "stream",
     "text": [
      "0\n",
      "1\n"
     ]
    }
   ],
   "source": [
    "# Step 7 - Check if there are duplicated rows in some specific subsets\n",
    "# In order to make the relations with old_HDD.csv data\n",
    "\n",
    "# 7.1 - It's necessary to check in the film's dataframe that all films titles are unique\n",
    "print(film.duplicated(subset=['title']).sum())\n",
    "\n",
    "# 7.2 - It's necessary to check in actor's dataframe that the tupla (first_name-last_name) are unique\n",
    "print(actor.duplicated(subset=['first_name', 'last_name']).sum())"
   ],
   "metadata": {
    "collapsed": false,
    "pycharm": {
     "name": "#%%\n"
    }
   }
  },
  {
   "cell_type": "code",
   "execution_count": 8,
   "outputs": [
    {
     "name": "stdout",
     "output_type": "stream",
     "text": [
      "0\n"
     ]
    }
   ],
   "source": [
    "# Step 8 - There is one duplicated in the tupla (first_name-last_name) of actor's dataframe.\n",
    "# We need to delete it, in order to not have ambiguous relations.\n",
    "actor.drop_duplicates(subset =[\"first_name\", \"last_name\"], inplace = True)\n",
    "\n",
    "print(actor.duplicated(subset=['first_name', 'last_name']).sum())"
   ],
   "metadata": {
    "collapsed": false,
    "pycharm": {
     "name": "#%%\n"
    }
   }
  },
  {
   "cell_type": "code",
   "execution_count": 9,
   "outputs": [
    {
     "name": "stdout",
     "output_type": "stream",
     "text": [
      "1\n"
     ]
    }
   ],
   "source": [
    "# Step 9 - Check if there are more than one category from \"film\" dataframe\n",
    "print(film_actor.groupby('title')['category_id'].transform('nunique').max())"
   ],
   "metadata": {
    "collapsed": false,
    "pycharm": {
     "name": "#%%\n"
    }
   }
  },
  {
   "cell_type": "code",
   "execution_count": 10,
   "outputs": [
    {
     "name": "stdout",
     "output_type": "stream",
     "text": [
      "              rental_id  film_id  store_id\n",
      "inventory_id                              \n",
      "205                 451     45.0       2.0\n",
      "674                 202    147.0       1.0\n",
      "977                 837    218.0       1.0\n",
      "1349                553      NaN       NaN\n",
      "1928                808      NaN       NaN\n",
      "2634                822      NaN       NaN\n",
      "2711                751      NaN       NaN\n",
      "2858                790      NaN       NaN\n",
      "3905                145      NaN       NaN\n",
      "4579                582      NaN       NaN\n"
     ]
    }
   ],
   "source": [
    "# Step 10 - Check if there is correspondence one to one\n",
    "correspondence = rental[[\"inventory_id\", \"rental_id\"]].set_index('inventory_id').join(inventory.set_index('inventory_id'), how='left')\n",
    "print(correspondence.sample(10).sort_values(by=['inventory_id']))"
   ],
   "metadata": {
    "collapsed": false,
    "pycharm": {
     "name": "#%%\n"
    }
   }
  },
  {
   "cell_type": "code",
   "execution_count": 11,
   "outputs": [],
   "source": [
    "# Step 11 - There is only correspondence up to \"inventory_id\" 1000\n",
    "# For that reason, we need to transform the data of \"inventory_id\" col in \"rental\" dataframe\n",
    "# We follow Quique's strategy: apply a lambda that return the module (x % 1000)\n",
    "rental.inventory_id=rental.inventory_id.apply(lambda x : x % 1000)"
   ],
   "metadata": {
    "collapsed": false,
    "pycharm": {
     "name": "#%%\n"
    }
   }
  },
  {
   "cell_type": "code",
   "execution_count": 12,
   "outputs": [
    {
     "name": "stdout",
     "output_type": "stream",
     "text": [
      "1000\n"
     ]
    }
   ],
   "source": [
    "# Step 12 - Check max value of inventory_id on \"inventory\" dataframe\n",
    "print(inventory.inventory_id.max())"
   ],
   "metadata": {
    "collapsed": false,
    "pycharm": {
     "name": "#%%\n"
    }
   }
  },
  {
   "cell_type": "code",
   "execution_count": 13,
   "outputs": [],
   "source": [
    "# Step 13 - There is not more than one category from film.\n",
    "# For that reason, we could join film dataframe with film_actor dataframe by title...\n",
    "film = film.set_index('title').join(film_actor[[\"title\", \"category_id\"]].set_index('title'), how='left')"
   ],
   "metadata": {
    "collapsed": false,
    "pycharm": {
     "name": "#%%\n"
    }
   }
  },
  {
   "cell_type": "code",
   "execution_count": 14,
   "outputs": [],
   "source": [
    "# Step 14 - ...and then drop duplicates\n",
    "film.drop_duplicates(inplace = True)"
   ],
   "metadata": {
    "collapsed": false,
    "pycharm": {
     "name": "#%%\n"
    }
   }
  },
  {
   "cell_type": "code",
   "execution_count": 15,
   "outputs": [],
   "source": [
    "# Step 15 - There are some films with category and for this reason we created an \"Uncategorized\" category\n",
    "new = pd.DataFrame({'category_id': [17], 'name' : ['Uncategorized']})\n",
    "category = pd.concat([category, new], ignore_index = True, axis = 0)"
   ],
   "metadata": {
    "collapsed": false,
    "pycharm": {
     "name": "#%%\n"
    }
   }
  },
  {
   "cell_type": "code",
   "execution_count": 16,
   "outputs": [],
   "source": [
    "# Set 16 - Fill all NaN \"category_id\" fields with the \"Uncategorized\" id created in the last step\n",
    "film.category_id.fillna(17, inplace=True)"
   ],
   "metadata": {
    "collapsed": false,
    "pycharm": {
     "name": "#%%\n"
    }
   }
  },
  {
   "cell_type": "code",
   "execution_count": 17,
   "outputs": [],
   "source": [
    "# Step 17 - Reset index\n",
    "film.reset_index(inplace=True)"
   ],
   "metadata": {
    "collapsed": false,
    "pycharm": {
     "name": "#%%\n"
    }
   }
  },
  {
   "cell_type": "code",
   "execution_count": 18,
   "outputs": [],
   "source": [
    "# Step 18 - Transform \"category_id\" type to integer\n",
    "film.category_id = film.category_id.astype('int')"
   ],
   "metadata": {
    "collapsed": false,
    "pycharm": {
     "name": "#%%\n"
    }
   }
  },
  {
   "cell_type": "code",
   "execution_count": 19,
   "outputs": [],
   "source": [
    "# Step 19 - Join\n",
    "film_actor = film_actor.set_index('title').join(film[[\"film_id\", \"title\"]].set_index('title'), how='left')"
   ],
   "metadata": {
    "collapsed": false,
    "pycharm": {
     "name": "#%%\n"
    }
   }
  },
  {
   "cell_type": "code",
   "execution_count": 20,
   "outputs": [],
   "source": [
    "# Step 20 - Reset index\n",
    "film_actor.reset_index(inplace=True)"
   ],
   "metadata": {
    "collapsed": false,
    "pycharm": {
     "name": "#%%\n"
    }
   }
  },
  {
   "cell_type": "code",
   "execution_count": 21,
   "outputs": [],
   "source": [
    "# Step 21 - Join\n",
    "film_actor = film_actor[[\"first_name\", \"last_name\", \"film_id\"]].set_index([\"first_name\", \"last_name\"]).join(actor[[\"actor_id\", \"first_name\", \"last_name\"]].set_index([\"first_name\", \"last_name\"]), how='left')"
   ],
   "metadata": {
    "collapsed": false,
    "pycharm": {
     "name": "#%%\n"
    }
   }
  },
  {
   "cell_type": "code",
   "execution_count": 22,
   "outputs": [],
   "source": [
    "# Step 22 - Reset index\n",
    "film_actor.reset_index(drop=True, inplace=True)"
   ],
   "metadata": {
    "collapsed": false,
    "pycharm": {
     "name": "#%%\n"
    }
   }
  },
  {
   "cell_type": "code",
   "execution_count": 23,
   "outputs": [],
   "source": [
    "# Step 23 - Create MySQL engine\n",
    "str_conn='mysql+pymysql://root:' + DB_PASS + '@localhost:3306'\n",
    "motor=create_engine(str_conn)"
   ],
   "metadata": {
    "collapsed": false,
    "pycharm": {
     "name": "#%%\n"
    }
   }
  },
  {
   "cell_type": "code",
   "execution_count": 24,
   "outputs": [
    {
     "data": {
      "text/plain": "<sqlalchemy.engine.cursor.LegacyCursorResult at 0x7fc5a8372fd0>"
     },
     "execution_count": 24,
     "metadata": {},
     "output_type": "execute_result"
    }
   ],
   "source": [
    "# Step 24 - Create database\n",
    "create_db = 'CREATE DATABASE IF NOT EXISTS videostore;'\n",
    "motor.execute(create_db)"
   ],
   "metadata": {
    "collapsed": false,
    "pycharm": {
     "name": "#%%\n"
    }
   }
  },
  {
   "cell_type": "code",
   "execution_count": 25,
   "outputs": [
    {
     "data": {
      "text/plain": "<sqlalchemy.engine.cursor.LegacyCursorResult at 0x7fc5bb969640>"
     },
     "execution_count": 25,
     "metadata": {},
     "output_type": "execute_result"
    }
   ],
   "source": [
    "# Step 25 - Use database\n",
    "use_db = 'use videostore;'\n",
    "motor.execute(use_db)\n",
    "# db=conn.connect(host='localhost', user='root', passwd='password', database='productos')\n",
    "# cursor=db.cursor()"
   ],
   "metadata": {
    "collapsed": false,
    "pycharm": {
     "name": "#%%\n"
    }
   }
  },
  {
   "cell_type": "code",
   "execution_count": 26,
   "outputs": [
    {
     "data": {
      "text/plain": "<sqlalchemy.engine.cursor.LegacyCursorResult at 0x7fc5a835dc10>"
     },
     "execution_count": 26,
     "metadata": {},
     "output_type": "execute_result"
    }
   ],
   "source": [
    "# Step 26 - Create \"category\" table\n",
    "create_category_table = '''\n",
    "    CREATE TABLE IF NOT EXISTS category (\n",
    "        category_id int PRIMARY KEY,\n",
    "        name VARCHAR(100)\n",
    "    );\n",
    "'''\n",
    "motor.execute(create_category_table)"
   ],
   "metadata": {
    "collapsed": false,
    "pycharm": {
     "name": "#%%\n"
    }
   }
  },
  {
   "cell_type": "code",
   "execution_count": 27,
   "outputs": [],
   "source": [
    "# Step 27 - Seed \"category\" table from \"category\" dataframe\n",
    "for i in range(len(category)):\n",
    "    insert_query=f\"INSERT INTO category ({','.join(category.columns)}) VALUES {tuple(category.iloc[i].values)};\"\n",
    "    motor.execute(insert_query)"
   ],
   "metadata": {
    "collapsed": false,
    "pycharm": {
     "name": "#%%\n"
    }
   }
  },
  {
   "cell_type": "code",
   "execution_count": 28,
   "outputs": [
    {
     "data": {
      "text/plain": "<sqlalchemy.engine.cursor.LegacyCursorResult at 0x7fc5a835db50>"
     },
     "execution_count": 28,
     "metadata": {},
     "output_type": "execute_result"
    }
   ],
   "source": [
    "# Step 28 - Create \"actor\" table\n",
    "create_language_table = '''\n",
    "    CREATE TABLE IF NOT EXISTS language (\n",
    "        language_id INT PRIMARY KEY,\n",
    "        name VARCHAR(100)\n",
    "    );\n",
    "'''\n",
    "motor.execute(create_language_table)"
   ],
   "metadata": {
    "collapsed": false,
    "pycharm": {
     "name": "#%%\n"
    }
   }
  },
  {
   "cell_type": "code",
   "execution_count": 29,
   "outputs": [],
   "source": [
    "# Step 29 - Seed \"language\" table from \"language\" dataframe\n",
    "for i in range(len(language)):\n",
    "    insert_query=f\"INSERT INTO language ({','.join(language.columns)}) VALUES {tuple(language.iloc[i].values)};\"\n",
    "    motor.execute(insert_query)"
   ],
   "metadata": {
    "collapsed": false,
    "pycharm": {
     "name": "#%%\n"
    }
   }
  },
  {
   "cell_type": "code",
   "execution_count": 30,
   "outputs": [
    {
     "data": {
      "text/plain": "<sqlalchemy.engine.cursor.LegacyCursorResult at 0x7fc5a8372580>"
     },
     "execution_count": 30,
     "metadata": {},
     "output_type": "execute_result"
    }
   ],
   "source": [
    "# Step 30 - Create \"film\" table\n",
    "create_film_table = '''\n",
    "    CREATE TABLE IF NOT EXISTS film (\n",
    "        title VARCHAR(100),\n",
    "        film_id INT PRIMARY KEY,\n",
    "        description VARCHAR(200),\n",
    "        release_year INT,\n",
    "        language_id INT,\n",
    "        rental_duration INT,\n",
    "        rental_rate FLOAT,\n",
    "        length INT,\n",
    "        replacement_cost FLOAT,\n",
    "        rating VARCHAR(50),\n",
    "        special_features VARCHAR(100),\n",
    "        category_id INT,\n",
    "        FOREIGN KEY (language_id) REFERENCES language(language_id),\n",
    "        FOREIGN KEY (category_id) REFERENCES category(category_id)\n",
    "    );\n",
    "'''\n",
    "motor.execute(create_film_table)"
   ],
   "metadata": {
    "collapsed": false,
    "pycharm": {
     "name": "#%%\n"
    }
   }
  },
  {
   "cell_type": "code",
   "source": [
    "# Step 31 - Seed \"film\" table from \"film\" dataframe\n",
    "for i in range(len(film)):\n",
    "    insert_query=f\"INSERT INTO film ({','.join(film.columns)}) VALUES {tuple(film.iloc[i].values)};\"\n",
    "    motor.execute(insert_query)"
   ],
   "metadata": {
    "collapsed": false,
    "pycharm": {
     "name": "#%%\n"
    }
   },
   "execution_count": 31,
   "outputs": []
  },
  {
   "cell_type": "code",
   "execution_count": 32,
   "outputs": [
    {
     "data": {
      "text/plain": "<sqlalchemy.engine.cursor.LegacyCursorResult at 0x7fc5884f3ca0>"
     },
     "execution_count": 32,
     "metadata": {},
     "output_type": "execute_result"
    }
   ],
   "source": [
    "# Step 32 - Create \"actor\" table\n",
    "create_actor_table = '''\n",
    "    CREATE TABLE IF NOT EXISTS actor (\n",
    "        actor_id INT PRIMARY KEY,\n",
    "        first_name VARCHAR(100),\n",
    "        last_name VARCHAR(100)\n",
    "    );\n",
    "'''\n",
    "motor.execute(create_actor_table)"
   ],
   "metadata": {
    "collapsed": false,
    "pycharm": {
     "name": "#%%\n"
    }
   }
  },
  {
   "cell_type": "code",
   "execution_count": 33,
   "outputs": [],
   "source": [
    "# Step 33 - Seed \"actor\" table from \"actor\" dataframe\n",
    "for i in range(len(actor)):\n",
    "    insert_query=f\"INSERT INTO actor ({','.join(actor.columns)}) VALUES {tuple(actor.iloc[i].values)};\"\n",
    "    motor.execute(insert_query)"
   ],
   "metadata": {
    "collapsed": false,
    "pycharm": {
     "name": "#%%\n"
    }
   }
  },
  {
   "cell_type": "code",
   "execution_count": 34,
   "outputs": [
    {
     "data": {
      "text/plain": "<sqlalchemy.engine.cursor.LegacyCursorResult at 0x7fc5884f3e80>"
     },
     "execution_count": 34,
     "metadata": {},
     "output_type": "execute_result"
    }
   ],
   "source": [
    "# Step 34 - Create \"film_actor\" table\n",
    "create_film_actor_table = '''\n",
    "    CREATE TABLE IF NOT EXISTS film_actor (\n",
    "        film_id INT,\n",
    "        actor_id INT,\n",
    "        PRIMARY KEY (film_id, actor_id),\n",
    "        FOREIGN KEY (film_id) REFERENCES film(film_id),\n",
    "        FOREIGN KEY (actor_id) REFERENCES actor(actor_id)\n",
    "    );\n",
    "'''\n",
    "motor.execute(create_film_actor_table)"
   ],
   "metadata": {
    "collapsed": false,
    "pycharm": {
     "name": "#%%\n"
    }
   }
  },
  {
   "cell_type": "code",
   "execution_count": 35,
   "outputs": [],
   "source": [
    "# Step 35 - Seed \"film_actor\" table from \"film_actor\" dataframe\n",
    "for i in range(len(film_actor)):\n",
    "    insert_query=f\"INSERT INTO film_actor ({','.join(film_actor.columns)}) VALUES {tuple(film_actor.iloc[i].values)};\"\n",
    "    motor.execute(insert_query)"
   ],
   "metadata": {
    "collapsed": false,
    "pycharm": {
     "name": "#%%\n"
    }
   }
  },
  {
   "cell_type": "code",
   "execution_count": 36,
   "outputs": [
    {
     "data": {
      "text/plain": "<sqlalchemy.engine.cursor.LegacyCursorResult at 0x7fc5884f33a0>"
     },
     "execution_count": 36,
     "metadata": {},
     "output_type": "execute_result"
    }
   ],
   "source": [
    "# Step 36 - Create \"inventory\" table\n",
    "create_inventory_table = '''\n",
    "    CREATE TABLE IF NOT EXISTS inventory (\n",
    "        inventory_id INT PRIMARY KEY,\n",
    "        film_id INT,\n",
    "        store_id INT,\n",
    "        FOREIGN KEY (film_id) REFERENCES film(film_id)\n",
    "    );\n",
    "'''\n",
    "motor.execute(create_inventory_table)"
   ],
   "metadata": {
    "collapsed": false,
    "pycharm": {
     "name": "#%%\n"
    }
   }
  },
  {
   "cell_type": "code",
   "execution_count": 37,
   "outputs": [],
   "source": [
    "# Step 37 - Seed \"inventory\" table from \"inventory\" dataframe\n",
    "for i in range(len(inventory)):\n",
    "    insert_query=f\"INSERT INTO inventory ({','.join(inventory.columns)}) VALUES {tuple(inventory.iloc[i].values)};\"\n",
    "    motor.execute(insert_query)"
   ],
   "metadata": {
    "collapsed": false,
    "pycharm": {
     "name": "#%%\n"
    }
   }
  },
  {
   "cell_type": "code",
   "execution_count": 38,
   "outputs": [
    {
     "data": {
      "text/plain": "<sqlalchemy.engine.cursor.LegacyCursorResult at 0x7fc5884fae50>"
     },
     "execution_count": 38,
     "metadata": {},
     "output_type": "execute_result"
    }
   ],
   "source": [
    "# Step 38 - Create \"rental\" table\n",
    "create_rental_table = '''\n",
    "    CREATE TABLE IF NOT EXISTS rental (\n",
    "        rental_id INT PRIMARY KEY,\n",
    "        rental_date DATETIME,\n",
    "        inventory_id INT,\n",
    "        customer_id INT,\n",
    "        return_date DATETIME,\n",
    "        staff_id INT,\n",
    "        FOREIGN KEY (inventory_id) REFERENCES inventory(inventory_id)\n",
    "    );\n",
    "'''\n",
    "motor.execute(create_rental_table)"
   ],
   "metadata": {
    "collapsed": false,
    "pycharm": {
     "name": "#%%\n"
    }
   }
  },
  {
   "cell_type": "code",
   "execution_count": 39,
   "outputs": [],
   "source": [
    "# Step 39 - Seed \"rental\" table from \"rental\" dataframe\n",
    "for i in range(len(rental)):\n",
    "    insert_query=f\"INSERT INTO rental ({','.join(rental.columns)}) VALUES {tuple(rental.iloc[i].values)};\"\n",
    "    motor.execute(insert_query)"
   ],
   "metadata": {
    "collapsed": false,
    "pycharm": {
     "name": "#%%\n"
    }
   }
  },
  {
   "cell_type": "code",
   "execution_count": 40,
   "outputs": [
    {
     "name": "stdout",
     "output_type": "stream",
     "text": [
      "[('SANDRA KILMER', 37), ('VAL BOLGER', 35), ('UMA WOOD', 35), ('JULIA MCQUEEN', 33), ('RIP CRAWFORD', 33)]\n"
     ]
    }
   ],
   "source": [
    "## Step 40 - TOP 5 ACTORS WITH MORE FILMS\n",
    "top_5_actors='''\n",
    "SELECT CONCAT(a.first_name, ' ', a.last_name) AS ACTOR, count(f.film_id) AS NUM_FILMS FROM actor AS a\n",
    "LEFT JOIN film_actor AS fa on a.actor_id = fa.actor_id\n",
    "LEFT JOIN film AS f on fa.film_id = f.film_id\n",
    "GROUP BY a.actor_id\n",
    "ORDER BY NUM_FILMS DESC\n",
    "LIMIT 5\n",
    "'''\n",
    "\n",
    "print(list(motor.execute(top_5_actors)))"
   ],
   "metadata": {
    "collapsed": false,
    "pycharm": {
     "name": "#%%\n"
    }
   }
  },
  {
   "cell_type": "code",
   "execution_count": 41,
   "outputs": [
    {
     "name": "stdout",
     "output_type": "stream",
     "text": [
      "[('BOOGIE AMELIE', 16), ('ATLANTIS CAUSE', 12), ('AFFAIR PREJUDICE', 12), ('BINGO TALENTED', 11), ('BLADE POLISH', 10)]\n"
     ]
    }
   ],
   "source": [
    "## Step 41 - TOP 5 FILMS BY RENTAL\n",
    "top_5_films='''\n",
    "SELECT f.title AS FILM, count(r.rental_id) AS NUM_RENTAL\n",
    "FROM rental AS r\n",
    "LEFT JOIN inventory i on i.inventory_id = r.inventory_id\n",
    "LEFT JOIN film f on i.film_id = f.film_id\n",
    "GROUP BY f.film_id\n",
    "ORDER BY NUM_RENTAL DESC\n",
    "LIMIT 5\n",
    "'''\n",
    "\n",
    "print(list(motor.execute(top_5_films)))"
   ],
   "metadata": {
    "collapsed": false,
    "pycharm": {
     "name": "#%%\n"
    }
   }
  },
  {
   "cell_type": "code",
   "execution_count": 42,
   "outputs": [
    {
     "name": "stdout",
     "output_type": "stream",
     "text": [
      "[('Uncategorized', 386), ('Animation', 50), ('Sports', 46), ('New', 45), ('Horror', 45)]\n"
     ]
    }
   ],
   "source": [
    "## Step 42 - TOP 5 CATEGORIES\n",
    "top_5_categories='''\n",
    "SELECT c.name AS CATEGORY, count(f.film_id) AS NUM_FILMS\n",
    "FROM category AS c\n",
    "LEFT JOIN film f on c.category_id = f.category_id\n",
    "GROUP BY c.category_id\n",
    "ORDER BY NUM_FILMS DESC\n",
    "LIMIT 5\n",
    "'''\n",
    "\n",
    "print(list(motor.execute(top_5_categories)))"
   ],
   "metadata": {
    "collapsed": false,
    "pycharm": {
     "name": "#%%\n"
    }
   }
  },
  {
   "cell_type": "code",
   "execution_count": 43,
   "outputs": [
    {
     "name": "stdout",
     "output_type": "stream",
     "text": [
      "[('GANGS PRIDE', 185), ('HOME PITY', 185), ('CHICAGO NORTH', 185), ('CONTROL ANTHEM', 185), ('DARN FORRESTER', 185)]\n"
     ]
    }
   ],
   "source": [
    "## Step 43 - TOP 5 LONGEST MOVIES\n",
    "top_5_longest_movies='''\n",
    "SELECT f.title AS FILM, f.length AS DURATION_IN_MINUTES\n",
    "FROM film AS f\n",
    "ORDER BY f.length DESC\n",
    "LIMIT 5\n",
    "'''\n",
    "\n",
    "print(list(motor.execute(top_5_longest_movies)))"
   ],
   "metadata": {
    "collapsed": false,
    "pycharm": {
     "name": "#%%\n"
    }
   }
  },
  {
   "cell_type": "code",
   "execution_count": 44,
   "outputs": [
    {
     "name": "stdout",
     "output_type": "stream",
     "text": [
      "[('BOOGIE AMELIE', 79.83999633789062), ('BORN SPINAL', 49.89999771118164), ('BUCKET BROTHERHOOD', 49.89999771118164), ('BROOKLYN DESERT', 44.90999794006348), ('CANDLES GRAPES', 44.90999794006348)]\n"
     ]
    }
   ],
   "source": [
    "## Step 44s - TOP 5 FILMS BY RENTAL INCOMING\n",
    "top_5_films_by_rental_incoming='''\n",
    "SELECT f.title AS FILM, sum(f.rental_rate) AS FILM_INCOMING\n",
    "FROM rental AS r\n",
    "LEFT JOIN inventory i on i.inventory_id = r.inventory_id\n",
    "LEFT JOIN film f on i.film_id = f.film_id\n",
    "GROUP BY f.film_id\n",
    "ORDER BY FILM_INCOMING DESC\n",
    "LIMIT 5\n",
    "'''\n",
    "\n",
    "print(list(motor.execute(top_5_films_by_rental_incoming)))"
   ],
   "metadata": {
    "collapsed": false,
    "pycharm": {
     "name": "#%%\n"
    }
   }
  },
  {
   "cell_type": "code",
   "execution_count": null,
   "outputs": [],
   "source": [],
   "metadata": {
    "collapsed": false,
    "pycharm": {
     "name": "#%%\n"
    }
   }
  }
 ],
 "metadata": {
  "kernelspec": {
   "display_name": "Python 3",
   "language": "python",
   "name": "python3"
  },
  "language_info": {
   "codemirror_mode": {
    "name": "ipython",
    "version": 2
   },
   "file_extension": ".py",
   "mimetype": "text/x-python",
   "name": "python",
   "nbconvert_exporter": "python",
   "pygments_lexer": "ipython2",
   "version": "2.7.6"
  }
 },
 "nbformat": 4,
 "nbformat_minor": 0
}